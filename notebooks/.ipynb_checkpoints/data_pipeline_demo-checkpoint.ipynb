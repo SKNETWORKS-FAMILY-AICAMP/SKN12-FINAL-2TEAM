{
 "cells": [
  {
   "cell_type": "code",
   "execution_count": 7,
   "metadata": {
    "vscode": {
     "languageId": "plaintext"
    }
   },
   "outputs": [],
   "source": [
    "import sys\n",
    "import os\n",
    "sys.path.append(os.path.abspath(\"../modules\"))  # modules 폴더가 상위에 있을 경우\n",
    "\n",
    "from data_pipeline import (\n",
    "    fetch_market_data,\n",
    "    fetch_fundamentals,\n",
    "    generate_technical_indicators,\n",
    "    merge_and_normalize\n",
    ")"
   ]
  },
  {
   "cell_type": "code",
   "execution_count": 8,
   "metadata": {
    "vscode": {
     "languageId": "plaintext"
    }
   },
   "outputs": [
    {
     "name": "stderr",
     "output_type": "stream",
     "text": [
      "/Users/cpldxx/giga-buffett-ai-fund-manager/modules/data_pipeline.py:16: FutureWarning: YF.download() has changed argument auto_adjust default to True\n",
      "  df = yf.download(ticker, start=start, end=end, progress=False)\n"
     ]
    },
    {
     "data": {
      "text/html": [
       "<div>\n",
       "<style scoped>\n",
       "    .dataframe tbody tr th:only-of-type {\n",
       "        vertical-align: middle;\n",
       "    }\n",
       "\n",
       "    .dataframe tbody tr th {\n",
       "        vertical-align: top;\n",
       "    }\n",
       "\n",
       "    .dataframe thead tr th {\n",
       "        text-align: left;\n",
       "    }\n",
       "\n",
       "    .dataframe thead tr:last-of-type th {\n",
       "        text-align: right;\n",
       "    }\n",
       "</style>\n",
       "<table border=\"1\" class=\"dataframe\">\n",
       "  <thead>\n",
       "    <tr>\n",
       "      <th>Price</th>\n",
       "      <th>close</th>\n",
       "      <th>high</th>\n",
       "      <th>low</th>\n",
       "      <th>open</th>\n",
       "      <th>volume</th>\n",
       "    </tr>\n",
       "    <tr>\n",
       "      <th>Ticker</th>\n",
       "      <th>005930.KS</th>\n",
       "      <th>005930.KS</th>\n",
       "      <th>005930.KS</th>\n",
       "      <th>005930.KS</th>\n",
       "      <th>005930.KS</th>\n",
       "    </tr>\n",
       "    <tr>\n",
       "      <th>date</th>\n",
       "      <th></th>\n",
       "      <th></th>\n",
       "      <th></th>\n",
       "      <th></th>\n",
       "      <th></th>\n",
       "    </tr>\n",
       "  </thead>\n",
       "  <tbody>\n",
       "    <tr>\n",
       "      <th>2023-01-02</th>\n",
       "      <td>52899.445312</td>\n",
       "      <td>53471.331208</td>\n",
       "      <td>52613.502365</td>\n",
       "      <td>52899.445312</td>\n",
       "      <td>10031448</td>\n",
       "    </tr>\n",
       "    <tr>\n",
       "      <th>2023-01-03</th>\n",
       "      <td>52804.128906</td>\n",
       "      <td>53376.014779</td>\n",
       "      <td>51946.300097</td>\n",
       "      <td>52804.128906</td>\n",
       "      <td>13547030</td>\n",
       "    </tr>\n",
       "    <tr>\n",
       "      <th>2023-01-04</th>\n",
       "      <td>55091.671875</td>\n",
       "      <td>55282.300497</td>\n",
       "      <td>52994.757029</td>\n",
       "      <td>53090.071340</td>\n",
       "      <td>20188071</td>\n",
       "    </tr>\n",
       "    <tr>\n",
       "      <th>2023-01-05</th>\n",
       "      <td>55472.933594</td>\n",
       "      <td>56044.819507</td>\n",
       "      <td>54901.047680</td>\n",
       "      <td>55472.933594</td>\n",
       "      <td>15682826</td>\n",
       "    </tr>\n",
       "    <tr>\n",
       "      <th>2023-01-06</th>\n",
       "      <td>56235.449219</td>\n",
       "      <td>56616.706502</td>\n",
       "      <td>55186.991691</td>\n",
       "      <td>55568.248974</td>\n",
       "      <td>17334989</td>\n",
       "    </tr>\n",
       "  </tbody>\n",
       "</table>\n",
       "</div>"
      ],
      "text/plain": [
       "Price              close          high           low          open    volume\n",
       "Ticker         005930.KS     005930.KS     005930.KS     005930.KS 005930.KS\n",
       "date                                                                        \n",
       "2023-01-02  52899.445312  53471.331208  52613.502365  52899.445312  10031448\n",
       "2023-01-03  52804.128906  53376.014779  51946.300097  52804.128906  13547030\n",
       "2023-01-04  55091.671875  55282.300497  52994.757029  53090.071340  20188071\n",
       "2023-01-05  55472.933594  56044.819507  54901.047680  55472.933594  15682826\n",
       "2023-01-06  56235.449219  56616.706502  55186.991691  55568.248974  17334989"
      ]
     },
     "execution_count": 8,
     "metadata": {},
     "output_type": "execute_result"
    }
   ],
   "source": [
    "# 예시: 삼성전자(005930.KS), 2023년 1월~2024년 1월\n",
    "ticker = \"005930.KS\"\n",
    "start_date = \"2023-01-01\"\n",
    "end_date = \"2024-01-01\"\n",
    "\n",
    "df_ohlcv = fetch_market_data(ticker, start_date, end_date)\n",
    "df_ohlcv.head()"
   ]
  },
  {
   "cell_type": "code",
   "execution_count": 9,
   "metadata": {
    "vscode": {
     "languageId": "plaintext"
    }
   },
   "outputs": [
    {
     "name": "stdout",
     "output_type": "stream",
     "text": [
      "{'EPS': None, 'ROE': 0.09228, 'PER': None, 'DebtEquity': 2.741, 'DividendYield': 2.42}\n"
     ]
    }
   ],
   "source": [
    "fundamentals = fetch_fundamentals(ticker)\n",
    "print(fundamentals)"
   ]
  },
  {
   "cell_type": "code",
   "execution_count": 27,
   "metadata": {
    "vscode": {
     "languageId": "plaintext"
    }
   },
   "outputs": [
    {
     "ename": "KeyError",
     "evalue": "['close']",
     "output_type": "error",
     "traceback": [
      "\u001b[31m---------------------------------------------------------------------------\u001b[39m",
      "\u001b[31mKeyError\u001b[39m                                  Traceback (most recent call last)",
      "\u001b[32m/var/folders/0j/7jb1882s3snb0g6bbtcmq_z00000gn/T/ipykernel_78507/373893851.py\u001b[39m in \u001b[36m?\u001b[39m\u001b[34m()\u001b[39m\n\u001b[32m----> \u001b[39m\u001b[32m1\u001b[39m df_ta = generate_technical_indicators(df_ohlcv)\n\u001b[32m      2\u001b[39m df_ta.head()\n",
      "\u001b[32m~/giga-buffett-ai-fund-manager/modules/data_pipeline.py\u001b[39m in \u001b[36m?\u001b[39m\u001b[34m(df)\u001b[39m\n\u001b[32m     52\u001b[39m         pd.DataFrame: Dataframe \u001b[38;5;28;01mwith\u001b[39;00m technical indicators columns added.\n\u001b[32m     53\u001b[39m     \"\"\"\n\u001b[32m     54\u001b[39m     df = df.copy()\n\u001b[32m     55\u001b[39m     \u001b[38;5;66;03m# 컬럼명이 소문자가 아닐 경우 자동 변환\u001b[39;00m\n\u001b[32m---> \u001b[39m\u001b[32m56\u001b[39m     \u001b[38;5;28;01mif\u001b[39;00m \u001b[33m'close'\u001b[39m \u001b[38;5;28;01mnot\u001b[39;00m \u001b[38;5;28;01min\u001b[39;00m df.columns:\n\u001b[32m     57\u001b[39m         df.columns = [c.lower() \u001b[38;5;28;01mfor\u001b[39;00m c \u001b[38;5;28;01min\u001b[39;00m df.columns]\n\u001b[32m     58\u001b[39m     \u001b[38;5;66;03m# 데이터가 비어 있으면 경고 후 빈 DataFrame 반환\u001b[39;00m\n\u001b[32m     59\u001b[39m     \u001b[38;5;28;01mif\u001b[39;00m df.empty \u001b[38;5;28;01mor\u001b[39;00m \u001b[33m'close'\u001b[39m \u001b[38;5;28;01mnot\u001b[39;00m \u001b[38;5;28;01min\u001b[39;00m df.columns:\n",
      "\u001b[32m/opt/anaconda3/envs/final_project_skn/lib/python3.11/site-packages/pandas/core/frame.py\u001b[39m in \u001b[36m?\u001b[39m\u001b[34m(self, axis, how, thresh, subset, inplace, ignore_index)\u001b[39m\n\u001b[32m   6673\u001b[39m             ax = self._get_axis(agg_axis)\n\u001b[32m   6674\u001b[39m             indices = ax.get_indexer_for(subset)\n\u001b[32m   6675\u001b[39m             check = indices == -\u001b[32m1\u001b[39m\n\u001b[32m   6676\u001b[39m             \u001b[38;5;28;01mif\u001b[39;00m check.any():\n\u001b[32m-> \u001b[39m\u001b[32m6677\u001b[39m                 \u001b[38;5;28;01mraise\u001b[39;00m KeyError(np.array(subset)[check].tolist())\n\u001b[32m   6678\u001b[39m             agg_obj = self.take(indices, axis=agg_axis)\n\u001b[32m   6679\u001b[39m \n\u001b[32m   6680\u001b[39m         \u001b[38;5;28;01mif\u001b[39;00m thresh \u001b[38;5;28;01mis\u001b[39;00m \u001b[38;5;28;01mnot\u001b[39;00m lib.no_default:\n",
      "\u001b[31mKeyError\u001b[39m: ['close']"
     ]
    }
   ],
   "source": [
    "df_ohlcv = fetch_market_data(ticker, start_date, end_date)\n",
    "print(df_ohlcv.columns)\n",
    "print(df_ohlcv.head())\n",
    "df_ta = generate_technical_indicators(df_ohlcv)\n",
    "df_ta.head()"
   ]
  },
  {
   "cell_type": "code",
   "execution_count": null,
   "metadata": {
    "vscode": {
     "languageId": "plaintext"
    }
   },
   "outputs": [],
   "source": [
    "df_final = merge_and_normalize(df_ohlcv, df_ta, fundamentals)\n",
    "df_final.head()"
   ]
  },
  {
   "cell_type": "code",
   "execution_count": null,
   "metadata": {
    "vscode": {
     "languageId": "plaintext"
    }
   },
   "outputs": [],
   "source": [
    "def run_full_pipeline(ticker, start_date, end_date):\n",
    "    df_ohlcv = fetch_market_data(ticker, start_date, end_date)\n",
    "    fundamentals = fetch_fundamentals(ticker)\n",
    "    df_ta = generate_technical_indicators(df_ohlcv)\n",
    "    df_final = merge_and_normalize(df_ohlcv, df_ta, fundamentals)\n",
    "    return df_final\n",
    "\n",
    "df_all = run_full_pipeline(\"005930.KS\", \"2023-01-01\", \"2024-01-01\")\n",
    "df_all.head()"
   ]
  },
  {
   "cell_type": "code",
   "execution_count": null,
   "metadata": {
    "vscode": {
     "languageId": "plaintext"
    }
   },
   "outputs": [],
   "source": [
    "df_all.to_csv(\"samsung_full_pipeline.csv\", index=False)"
   ]
  }
 ],
 "metadata": {
  "kernelspec": {
   "display_name": "final_project_skn",
   "language": "python",
   "name": "final_project_skn"
  },
  "language_info": {
   "codemirror_mode": {
    "name": "ipython",
    "version": 3
   },
   "file_extension": ".py",
   "mimetype": "text/x-python",
   "name": "python",
   "nbconvert_exporter": "python",
   "pygments_lexer": "ipython3",
   "version": "3.11.13"
  }
 },
 "nbformat": 4,
 "nbformat_minor": 4
}
